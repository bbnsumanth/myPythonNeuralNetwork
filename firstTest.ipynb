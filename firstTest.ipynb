{
 "cells": [
  {
   "cell_type": "code",
   "execution_count": 4,
   "metadata": {
    "collapsed": false,
    "scrolled": true
   },
   "outputs": [
    {
     "data": {
      "application/json": {
       "cell": {
        "!": "OSMagics",
        "HTML": "Other",
        "SVG": "Other",
        "bash": "Other",
        "capture": "ExecutionMagics",
        "debug": "ExecutionMagics",
        "file": "Other",
        "html": "DisplayMagics",
        "javascript": "DisplayMagics",
        "js": "DisplayMagics",
        "latex": "DisplayMagics",
        "perl": "Other",
        "prun": "ExecutionMagics",
        "pypy": "Other",
        "python": "Other",
        "python2": "Other",
        "python3": "Other",
        "ruby": "Other",
        "script": "ScriptMagics",
        "sh": "Other",
        "svg": "DisplayMagics",
        "sx": "OSMagics",
        "system": "OSMagics",
        "time": "ExecutionMagics",
        "timeit": "ExecutionMagics",
        "writefile": "OSMagics"
       },
       "line": {
        "alias": "OSMagics",
        "alias_magic": "BasicMagics",
        "autocall": "AutoMagics",
        "automagic": "AutoMagics",
        "autosave": "KernelMagics",
        "bookmark": "OSMagics",
        "cat": "Other",
        "cd": "OSMagics",
        "clear": "KernelMagics",
        "colors": "BasicMagics",
        "config": "ConfigMagics",
        "connect_info": "KernelMagics",
        "cp": "Other",
        "debug": "ExecutionMagics",
        "dhist": "OSMagics",
        "dirs": "OSMagics",
        "doctest_mode": "BasicMagics",
        "ed": "Other",
        "edit": "KernelMagics",
        "env": "OSMagics",
        "gui": "BasicMagics",
        "hist": "Other",
        "history": "HistoryMagics",
        "killbgscripts": "ScriptMagics",
        "ldir": "Other",
        "less": "KernelMagics",
        "lf": "Other",
        "lk": "Other",
        "ll": "Other",
        "load": "CodeMagics",
        "load_ext": "ExtensionMagics",
        "loadpy": "CodeMagics",
        "logoff": "LoggingMagics",
        "logon": "LoggingMagics",
        "logstart": "LoggingMagics",
        "logstate": "LoggingMagics",
        "logstop": "LoggingMagics",
        "ls": "Other",
        "lsmagic": "BasicMagics",
        "lx": "Other",
        "macro": "ExecutionMagics",
        "magic": "BasicMagics",
        "man": "KernelMagics",
        "matplotlib": "PylabMagics",
        "mkdir": "Other",
        "more": "KernelMagics",
        "mv": "Other",
        "notebook": "BasicMagics",
        "page": "BasicMagics",
        "pastebin": "CodeMagics",
        "pdb": "ExecutionMagics",
        "pdef": "NamespaceMagics",
        "pdoc": "NamespaceMagics",
        "pfile": "NamespaceMagics",
        "pinfo": "NamespaceMagics",
        "pinfo2": "NamespaceMagics",
        "popd": "OSMagics",
        "pprint": "BasicMagics",
        "precision": "BasicMagics",
        "profile": "BasicMagics",
        "prun": "ExecutionMagics",
        "psearch": "NamespaceMagics",
        "psource": "NamespaceMagics",
        "pushd": "OSMagics",
        "pwd": "OSMagics",
        "pycat": "OSMagics",
        "pylab": "PylabMagics",
        "qtconsole": "KernelMagics",
        "quickref": "BasicMagics",
        "recall": "HistoryMagics",
        "rehashx": "OSMagics",
        "reload_ext": "ExtensionMagics",
        "rep": "Other",
        "rerun": "HistoryMagics",
        "reset": "NamespaceMagics",
        "reset_selective": "NamespaceMagics",
        "rm": "Other",
        "rmdir": "Other",
        "run": "ExecutionMagics",
        "save": "CodeMagics",
        "sc": "OSMagics",
        "set_env": "OSMagics",
        "store": "StoreMagics",
        "sx": "OSMagics",
        "system": "OSMagics",
        "tb": "ExecutionMagics",
        "time": "ExecutionMagics",
        "timeit": "ExecutionMagics",
        "unalias": "OSMagics",
        "unload_ext": "ExtensionMagics",
        "who": "NamespaceMagics",
        "who_ls": "NamespaceMagics",
        "whos": "NamespaceMagics",
        "xdel": "NamespaceMagics",
        "xmode": "BasicMagics"
       }
      },
      "text/plain": [
       "Available line magics:\n",
       "%alias  %alias_magic  %autocall  %automagic  %autosave  %bookmark  %cat  %cd  %clear  %colors  %config  %connect_info  %cp  %debug  %dhist  %dirs  %doctest_mode  %ed  %edit  %env  %gui  %hist  %history  %killbgscripts  %ldir  %less  %lf  %lk  %ll  %load  %load_ext  %loadpy  %logoff  %logon  %logstart  %logstate  %logstop  %ls  %lsmagic  %lx  %macro  %magic  %man  %matplotlib  %mkdir  %more  %mv  %notebook  %page  %pastebin  %pdb  %pdef  %pdoc  %pfile  %pinfo  %pinfo2  %popd  %pprint  %precision  %profile  %prun  %psearch  %psource  %pushd  %pwd  %pycat  %pylab  %qtconsole  %quickref  %recall  %rehashx  %reload_ext  %rep  %rerun  %reset  %reset_selective  %rm  %rmdir  %run  %save  %sc  %set_env  %store  %sx  %system  %tb  %time  %timeit  %unalias  %unload_ext  %who  %who_ls  %whos  %xdel  %xmode\n",
       "\n",
       "Available cell magics:\n",
       "%%!  %%HTML  %%SVG  %%bash  %%capture  %%debug  %%file  %%html  %%javascript  %%js  %%latex  %%perl  %%prun  %%pypy  %%python  %%python2  %%python3  %%ruby  %%script  %%sh  %%svg  %%sx  %%system  %%time  %%timeit  %%writefile\n",
       "\n",
       "Automagic is ON, % prefix IS NOT needed for line magics."
      ]
     },
     "execution_count": 4,
     "metadata": {},
     "output_type": "execute_result"
    }
   ],
   "source": [
    "%lsmagic\n"
   ]
  },
  {
   "cell_type": "code",
   "execution_count": 23,
   "metadata": {
    "collapsed": false
   },
   "outputs": [],
   "source": [
    "?%matplotlib"
   ]
  },
  {
   "cell_type": "markdown",
   "metadata": {},
   "source": [
    "Yoy oy oyo\n",
    "# hsfkhkndv\n",
    "JOKkfnws vnwvisnvo nsnvlk\n",
    "feon ksv\n",
    "jsjcvm\n"
   ]
  },
  {
   "cell_type": "code",
   "execution_count": 2,
   "metadata": {
    "collapsed": false
   },
   "outputs": [
    {
     "name": "stdout",
     "output_type": "stream",
     "text": [
      "CPU times: user 6 µs, sys: 2 µs, total: 8 µs\n",
      "Wall time: 12.2 µs\n"
     ]
    }
   ],
   "source": [
    "%time a = 3"
   ]
  },
  {
   "cell_type": "code",
   "execution_count": 3,
   "metadata": {
    "collapsed": false
   },
   "outputs": [
    {
     "name": "stdout",
     "output_type": "stream",
     "text": [
      "CPU times: user 6 µs, sys: 3 µs, total: 9 µs\n",
      "Wall time: 13.1 µs\n"
     ]
    },
    {
     "data": {
      "text/plain": [
       "3"
      ]
     },
     "execution_count": 3,
     "metadata": {},
     "output_type": "execute_result"
    }
   ],
   "source": [
    "%time a"
   ]
  },
  {
   "cell_type": "code",
   "execution_count": 4,
   "metadata": {
    "collapsed": false
   },
   "outputs": [
    {
     "data": {
      "text/plain": [
       "3"
      ]
     },
     "execution_count": 4,
     "metadata": {},
     "output_type": "execute_result"
    }
   ],
   "source": [
    "a"
   ]
  },
  {
   "cell_type": "code",
   "execution_count": 37,
   "metadata": {
    "collapsed": false,
    "scrolled": true
   },
   "outputs": [],
   "source": [
    "import numpy as np\n",
    "from ipywidgets import *\n",
    "\n",
    "%matplotlib inline\n",
    "import matplotlib.pyplot as plt\n",
    "\n",
    "def sigmoid(x):\n",
    "    return 1/(1 + np.exp(-x))\n"
   ]
  },
  {
   "cell_type": "markdown",
   "metadata": {},
   "source": [
    "## Visualizing one neuron's action\n",
    "\n",
    "In the following example, we shall visualize the action of a single neuron to a single input.\n"
   ]
  },
  {
   "cell_type": "code",
   "execution_count": 139,
   "metadata": {
    "collapsed": false
   },
   "outputs": [
    {
     "data": {
      "image/png": "[encoded data removed]",
      "text/plain": [
       "<matplotlib.figure.Figure at 0x10b49fd50>"
      ]
     },
     "metadata": {},
     "output_type": "display_data"
    },
    {
     "data": {
      "image/png": "[encoded data removed]",
      "text/plain": [
       "<matplotlib.figure.Figure at 0x10a0a38d0>"
      ]
     },
     "metadata": {},
     "output_type": "display_data"
    }
   ],
   "source": [
    "w0 = 1\n",
    "w1 = 1\n",
    "\n",
    "\n",
    "def oneNeuron(w0, w1):\n",
    "\n",
    "    fig1 = plt.figure()\n",
    "    axes1 = fig1.add_axes([0.1, 0.1, 0.8, 0.4])\n",
    "    axes2 = fig1.add_axes([0.51, 0.22, 0.08, 0.16])\n",
    "\n",
    "    axes1.text(-2.5, -0.1, \"(input)\", size='xx-large');\n",
    "    axes1.text(-1.45, -0.1, \"x\", size='xx-large', weight='bold');\n",
    "    axes1.arrow(-1.2, 0, 0.35, 0, head_width=0.05, head_length=0.1, fc='k', ec='k')\n",
    "    axes1.text(-1.15, 0.45, \"1\", weight='bold')\n",
    "    axes1.text(-1.3, 0.65, \"(bias)\")\n",
    "    axes1.arrow(-1, 0.5, 0.2, -0.2, head_width=0.05, head_length=0.1, fc='k', ec='k')\n",
    "    circle = plt.Circle((0, 0), radius=.9, fc='#ffa500'); axes1.add_patch(circle)\n",
    "    wRectangle = plt.Rectangle((-0.7, -0.4), 0.5, 0.8, fc='w'); axes1.add_patch(wRectangle)\n",
    "    axes1.text(-0.67, 0.05, \"w0 +\")\n",
    "    axes1.text(-0.67, -0.1, \"w1*x\")\n",
    "    axes1.arrow(-0.14, 0, 0.13, 0, head_width=0.05, head_length=0.1, fc='k', ec='k')\n",
    "    axes1.text(-0.1, 0.15, \"y\", size='large', weight='bold')\n",
    "    axes1.arrow(0.7, 0, 0.3, 0, head_width=0.05, head_length=0.1, fc='k', ec='k')\n",
    "    axes1.text(1.2, -0.1, \"z\", size='xx-large', weight='bold');\n",
    "    axes1.text(1.4, -0.1, \"(output)\", size='xx-large');\n",
    "    axes1.axis('scaled')\n",
    "    axes1.grid();\n",
    "    axes1.set_xlim([-3, 3])\n",
    "    axes1.set_ylim([-1, 1])\n",
    "    axes1.axis('off');\n",
    "\n",
    "    rectangle = plt.Rectangle((-5, 0), 10, 1, fc='w')\n",
    "    axes2.add_patch(rectangle)\n",
    "    sigmoidX = np.linspace(-5, 5, 100)\n",
    "    axes2.plot(sigmoidX, sigmoid(sigmoidX), 'r')\n",
    "    #axes2.axis('scaled')\n",
    "    axes2.set_xlim([-6, 6])\n",
    "    axes2.set_ylim([-0.1, 1.1])\n",
    "    axes2.axis('off');\n",
    "    \n",
    "    x = np.linspace(0.0, 1.0, 100)\n",
    "    \n",
    "    f, (ax1, ax2) = plt.subplots(1, 2, sharey=False)\n",
    "    ax1.plot(x, w0 + w1*x, 'r');\n",
    "    ax1.set_position([0.1, 0.1, 0.4, 0.5])\n",
    "    ax1.grid()\n",
    "    ax1.set_xlim([0,1])\n",
    "    ax1.set_ylim([-100,100])\n",
    "    ax1.set_xlabel(\"x (input to neuron)\")\n",
    "    ax1.set_ylabel(\"y (weighted sum)\")\n",
    "    \n",
    "    ax2.plot(x, sigmoid(w0 + w1*x), 'r');\n",
    "    ax2.set_position([0.7, 0.1, 0.4, 0.5])\n",
    "    ax2.grid()\n",
    "    ax2.set_xlim([0,1])\n",
    "    ax2.set_ylim([0,1])\n",
    "    ax2.set_xlabel(\"x (input to neuron)\")\n",
    "    ax2.set_ylabel(\"z (output of neuron)\")\n",
    "    \n",
    "\n",
    "interact(oneNeuron, w0=widgets.IntSlider(min=-100, max=100, step=10, value=-20), w1=widgets.IntSlider(min=-100, max=100, step=10, value=40));"
   ]
  },
  {
   "cell_type": "markdown",
   "metadata": {
    "collapsed": true
   },
   "source": [
    "The input is considered to vary from 0 to 1 (standard range, to normalize different-ranged dimensions of the input). In addition to the input, there is a bias added to provide more flexibility to the output. This bias value is always 1.\n",
    "\n",
    "The first operation done by the neuron is to multiply its inputs (including the bias value) with some weights, and sum those values:\n",
    "\n",
    "$$y = w_{0} + w_{1}*x$$\n",
    "\n",
    "The second operation is to make y non-linear. A common function that is used to non-linearity is the sigmoid function:\n",
    "\n",
    "$$z = sigmoid(y) = \\frac{1}{1+e^{-y}} = \\frac{1}{1+e^{-(w_{0} + w_{1}*x)}}$$\n",
    "\n",
    "This way, the output (z) always lies in the range of 0 to 1.\n",
    "\n",
    "If there are more inpu\n"
   ]
  },
  {
   "cell_type": "code",
   "execution_count": null,
   "metadata": {
    "collapsed": true
   },
   "outputs": [],
   "source": []
  },
  {
   "cell_type": "code",
   "execution_count": null,
   "metadata": {
    "collapsed": true
   },
   "outputs": [],
   "source": []
  }
 ],
 "metadata": {
  "kernelspec": {
   "display_name": "Python 2",
   "language": "python",
   "name": "python2"
  },
  "language_info": {
   "codemirror_mode": {
    "name": "ipython",
    "version": 2
   },
   "file_extension": ".py",
   "mimetype": "text/x-python",
   "name": "python",
   "nbconvert_exporter": "python",
   "pygments_lexer": "ipython2",
   "version": "2.7.11"
  },
  "widgets": {
   "state": {
    "27b9572836f14fe9a737f12b11b3c5c2": {
     "views": [
      {
       "cell_index": 8
      }
     ]
    }
   },
   "version": "1.2.0"
  }
 },
 "nbformat": 4,
 "nbformat_minor": 1
}
